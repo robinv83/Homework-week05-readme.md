{
 "cells": [
  {
   "cell_type": "code",
   "execution_count": 222,
   "metadata": {},
   "outputs": [],
   "source": [
    "#Analysis\n",
    "#City type, fare and number of drivers are highly correlated variables\n",
    "#Average rural fares are higher than average urban fares suggesting longer distance rides or higher prices due to scarcity in the # of fares\n",
    "#Rural areas has lower percentages but higher fares and rides compared to urban areas which higher percentage of crivers but lower number of rides\n",
    "\n",
    "\n",
    "#Dependencies\n",
    "import matplotlib.pyplot as plt\n",
    "import numpy as np\n",
    "import pandas as pd\n",
    "import seaborn as sb\n",
    "import csv"
   ]
  },
  {
   "cell_type": "code",
   "execution_count": 223,
   "metadata": {},
   "outputs": [],
   "source": [
    "#Import data\n",
    "city_df = pd.read_csv(\"generated_data/city_data.csv\")\n",
    "ride_df = pd.read_csv(\"generated_data/ride_data.csv\")"
   ]
  },
  {
   "cell_type": "code",
   "execution_count": 224,
   "metadata": {},
   "outputs": [
    {
     "data": {
      "text/html": [
       "<div>\n",
       "<style scoped>\n",
       "    .dataframe tbody tr th:only-of-type {\n",
       "        vertical-align: middle;\n",
       "    }\n",
       "\n",
       "    .dataframe tbody tr th {\n",
       "        vertical-align: top;\n",
       "    }\n",
       "\n",
       "    .dataframe thead th {\n",
       "        text-align: right;\n",
       "    }\n",
       "</style>\n",
       "<table border=\"1\" class=\"dataframe\">\n",
       "  <thead>\n",
       "    <tr style=\"text-align: right;\">\n",
       "      <th></th>\n",
       "      <th>city</th>\n",
       "      <th>driver_count</th>\n",
       "      <th>type</th>\n",
       "    </tr>\n",
       "  </thead>\n",
       "  <tbody>\n",
       "    <tr>\n",
       "      <th>0</th>\n",
       "      <td>Tammyburgh</td>\n",
       "      <td>11</td>\n",
       "      <td>Urban</td>\n",
       "    </tr>\n",
       "    <tr>\n",
       "      <th>1</th>\n",
       "      <td>Melissaborough</td>\n",
       "      <td>15</td>\n",
       "      <td>Urban</td>\n",
       "    </tr>\n",
       "    <tr>\n",
       "      <th>2</th>\n",
       "      <td>Port Brianborough</td>\n",
       "      <td>62</td>\n",
       "      <td>Urban</td>\n",
       "    </tr>\n",
       "    <tr>\n",
       "      <th>3</th>\n",
       "      <td>New Katherine</td>\n",
       "      <td>68</td>\n",
       "      <td>Urban</td>\n",
       "    </tr>\n",
       "    <tr>\n",
       "      <th>4</th>\n",
       "      <td>Lake Charlesside</td>\n",
       "      <td>65</td>\n",
       "      <td>Urban</td>\n",
       "    </tr>\n",
       "  </tbody>\n",
       "</table>\n",
       "</div>"
      ],
      "text/plain": [
       "                city  driver_count   type\n",
       "0         Tammyburgh            11  Urban\n",
       "1     Melissaborough            15  Urban\n",
       "2  Port Brianborough            62  Urban\n",
       "3      New Katherine            68  Urban\n",
       "4   Lake Charlesside            65  Urban"
      ]
     },
     "execution_count": 224,
     "metadata": {},
     "output_type": "execute_result"
    }
   ],
   "source": [
    "city_df.head()"
   ]
  },
  {
   "cell_type": "code",
   "execution_count": 225,
   "metadata": {},
   "outputs": [
    {
     "data": {
      "text/html": [
       "<div>\n",
       "<style scoped>\n",
       "    .dataframe tbody tr th:only-of-type {\n",
       "        vertical-align: middle;\n",
       "    }\n",
       "\n",
       "    .dataframe tbody tr th {\n",
       "        vertical-align: top;\n",
       "    }\n",
       "\n",
       "    .dataframe thead th {\n",
       "        text-align: right;\n",
       "    }\n",
       "</style>\n",
       "<table border=\"1\" class=\"dataframe\">\n",
       "  <thead>\n",
       "    <tr style=\"text-align: right;\">\n",
       "      <th></th>\n",
       "      <th>city</th>\n",
       "      <th>date</th>\n",
       "      <th>fare</th>\n",
       "      <th>ride_id</th>\n",
       "    </tr>\n",
       "  </thead>\n",
       "  <tbody>\n",
       "    <tr>\n",
       "      <th>0</th>\n",
       "      <td>Karenfurt</td>\n",
       "      <td>2017-01-01 19:03:03</td>\n",
       "      <td>32.90</td>\n",
       "      <td>3383346995405</td>\n",
       "    </tr>\n",
       "    <tr>\n",
       "      <th>1</th>\n",
       "      <td>Melissaborough</td>\n",
       "      <td>2017-01-01 08:55:58</td>\n",
       "      <td>19.59</td>\n",
       "      <td>2791839504576</td>\n",
       "    </tr>\n",
       "    <tr>\n",
       "      <th>2</th>\n",
       "      <td>Port Sandraport</td>\n",
       "      <td>2017-01-01 16:21:54</td>\n",
       "      <td>31.04</td>\n",
       "      <td>3341437383289</td>\n",
       "    </tr>\n",
       "    <tr>\n",
       "      <th>3</th>\n",
       "      <td>Curtismouth</td>\n",
       "      <td>2017-01-03 06:36:53</td>\n",
       "      <td>15.12</td>\n",
       "      <td>6557246300691</td>\n",
       "    </tr>\n",
       "    <tr>\n",
       "      <th>4</th>\n",
       "      <td>Port Michael</td>\n",
       "      <td>2017-01-03 09:56:52</td>\n",
       "      <td>19.65</td>\n",
       "      <td>9887635746234</td>\n",
       "    </tr>\n",
       "  </tbody>\n",
       "</table>\n",
       "</div>"
      ],
      "text/plain": [
       "              city                 date   fare        ride_id\n",
       "0        Karenfurt  2017-01-01 19:03:03  32.90  3383346995405\n",
       "1   Melissaborough  2017-01-01 08:55:58  19.59  2791839504576\n",
       "2  Port Sandraport  2017-01-01 16:21:54  31.04  3341437383289\n",
       "3      Curtismouth  2017-01-03 06:36:53  15.12  6557246300691\n",
       "4     Port Michael  2017-01-03 09:56:52  19.65  9887635746234"
      ]
     },
     "execution_count": 225,
     "metadata": {},
     "output_type": "execute_result"
    }
   ],
   "source": [
    "ride_df.head()"
   ]
  },
  {
   "cell_type": "code",
   "execution_count": 226,
   "metadata": {},
   "outputs": [
    {
     "data": {
      "text/html": [
       "<div>\n",
       "<style scoped>\n",
       "    .dataframe tbody tr th:only-of-type {\n",
       "        vertical-align: middle;\n",
       "    }\n",
       "\n",
       "    .dataframe tbody tr th {\n",
       "        vertical-align: top;\n",
       "    }\n",
       "\n",
       "    .dataframe thead th {\n",
       "        text-align: right;\n",
       "    }\n",
       "</style>\n",
       "<table border=\"1\" class=\"dataframe\">\n",
       "  <thead>\n",
       "    <tr style=\"text-align: right;\">\n",
       "      <th></th>\n",
       "      <th>driver_count</th>\n",
       "      <th>type</th>\n",
       "    </tr>\n",
       "    <tr>\n",
       "      <th>city</th>\n",
       "      <th></th>\n",
       "      <th></th>\n",
       "    </tr>\n",
       "  </thead>\n",
       "  <tbody>\n",
       "    <tr>\n",
       "      <th>Tammyburgh</th>\n",
       "      <td>11</td>\n",
       "      <td>Urban</td>\n",
       "    </tr>\n",
       "    <tr>\n",
       "      <th>Melissaborough</th>\n",
       "      <td>15</td>\n",
       "      <td>Urban</td>\n",
       "    </tr>\n",
       "    <tr>\n",
       "      <th>Port Brianborough</th>\n",
       "      <td>62</td>\n",
       "      <td>Urban</td>\n",
       "    </tr>\n",
       "    <tr>\n",
       "      <th>New Katherine</th>\n",
       "      <td>68</td>\n",
       "      <td>Urban</td>\n",
       "    </tr>\n",
       "    <tr>\n",
       "      <th>Lake Charlesside</th>\n",
       "      <td>65</td>\n",
       "      <td>Urban</td>\n",
       "    </tr>\n",
       "  </tbody>\n",
       "</table>\n",
       "</div>"
      ],
      "text/plain": [
       "                   driver_count   type\n",
       "city                                  \n",
       "Tammyburgh                   11  Urban\n",
       "Melissaborough               15  Urban\n",
       "Port Brianborough            62  Urban\n",
       "New Katherine                68  Urban\n",
       "Lake Charlesside             65  Urban"
      ]
     },
     "execution_count": 226,
     "metadata": {},
     "output_type": "execute_result"
    }
   ],
   "source": [
    "#set index as city\n",
    "city_df.set_index([\"city\"], inplace = True)\n",
    "city_df.head()"
   ]
  },
  {
   "cell_type": "code",
   "execution_count": 227,
   "metadata": {},
   "outputs": [
    {
     "data": {
      "text/plain": [
       "driver_count    126\n",
       "type            126\n",
       "dtype: int64"
      ]
     },
     "execution_count": 227,
     "metadata": {},
     "output_type": "execute_result"
    }
   ],
   "source": [
    "city_df.count()"
   ]
  },
  {
   "cell_type": "code",
   "execution_count": 228,
   "metadata": {},
   "outputs": [],
   "source": [
    "#set index as city\n",
    "ride_df.set_index([\"city\"], inplace = True)"
   ]
  },
  {
   "cell_type": "code",
   "execution_count": 229,
   "metadata": {},
   "outputs": [
    {
     "data": {
      "text/html": [
       "<div>\n",
       "<style scoped>\n",
       "    .dataframe tbody tr th:only-of-type {\n",
       "        vertical-align: middle;\n",
       "    }\n",
       "\n",
       "    .dataframe tbody tr th {\n",
       "        vertical-align: top;\n",
       "    }\n",
       "\n",
       "    .dataframe thead th {\n",
       "        text-align: right;\n",
       "    }\n",
       "</style>\n",
       "<table border=\"1\" class=\"dataframe\">\n",
       "  <thead>\n",
       "    <tr style=\"text-align: right;\">\n",
       "      <th></th>\n",
       "      <th>date</th>\n",
       "      <th>fare</th>\n",
       "      <th>ride_id</th>\n",
       "    </tr>\n",
       "    <tr>\n",
       "      <th>city</th>\n",
       "      <th></th>\n",
       "      <th></th>\n",
       "      <th></th>\n",
       "    </tr>\n",
       "  </thead>\n",
       "  <tbody>\n",
       "    <tr>\n",
       "      <th>Karenfurt</th>\n",
       "      <td>2017-01-01 19:03:03</td>\n",
       "      <td>32.90</td>\n",
       "      <td>3383346995405</td>\n",
       "    </tr>\n",
       "    <tr>\n",
       "      <th>Melissaborough</th>\n",
       "      <td>2017-01-01 08:55:58</td>\n",
       "      <td>19.59</td>\n",
       "      <td>2791839504576</td>\n",
       "    </tr>\n",
       "    <tr>\n",
       "      <th>Port Sandraport</th>\n",
       "      <td>2017-01-01 16:21:54</td>\n",
       "      <td>31.04</td>\n",
       "      <td>3341437383289</td>\n",
       "    </tr>\n",
       "    <tr>\n",
       "      <th>Curtismouth</th>\n",
       "      <td>2017-01-03 06:36:53</td>\n",
       "      <td>15.12</td>\n",
       "      <td>6557246300691</td>\n",
       "    </tr>\n",
       "    <tr>\n",
       "      <th>Port Michael</th>\n",
       "      <td>2017-01-03 09:56:52</td>\n",
       "      <td>19.65</td>\n",
       "      <td>9887635746234</td>\n",
       "    </tr>\n",
       "  </tbody>\n",
       "</table>\n",
       "</div>"
      ],
      "text/plain": [
       "                                date   fare        ride_id\n",
       "city                                                      \n",
       "Karenfurt        2017-01-01 19:03:03  32.90  3383346995405\n",
       "Melissaborough   2017-01-01 08:55:58  19.59  2791839504576\n",
       "Port Sandraport  2017-01-01 16:21:54  31.04  3341437383289\n",
       "Curtismouth      2017-01-03 06:36:53  15.12  6557246300691\n",
       "Port Michael     2017-01-03 09:56:52  19.65  9887635746234"
      ]
     },
     "execution_count": 229,
     "metadata": {},
     "output_type": "execute_result"
    }
   ],
   "source": [
    "ride_df.head()"
   ]
  },
  {
   "cell_type": "code",
   "execution_count": 230,
   "metadata": {},
   "outputs": [],
   "source": [
    "#Merge cityand ride dataframes\n",
    "all_data_df = city_df.merge(ride_df, how = \"inner\", left_index = True, right_index = True)"
   ]
  },
  {
   "cell_type": "code",
   "execution_count": 231,
   "metadata": {},
   "outputs": [
    {
     "data": {
      "text/html": [
       "<div>\n",
       "<style scoped>\n",
       "    .dataframe tbody tr th:only-of-type {\n",
       "        vertical-align: middle;\n",
       "    }\n",
       "\n",
       "    .dataframe tbody tr th {\n",
       "        vertical-align: top;\n",
       "    }\n",
       "\n",
       "    .dataframe thead th {\n",
       "        text-align: right;\n",
       "    }\n",
       "</style>\n",
       "<table border=\"1\" class=\"dataframe\">\n",
       "  <thead>\n",
       "    <tr style=\"text-align: right;\">\n",
       "      <th></th>\n",
       "      <th>driver_count</th>\n",
       "      <th>type</th>\n",
       "      <th>date</th>\n",
       "      <th>fare</th>\n",
       "      <th>ride_id</th>\n",
       "    </tr>\n",
       "    <tr>\n",
       "      <th>city</th>\n",
       "      <th></th>\n",
       "      <th></th>\n",
       "      <th></th>\n",
       "      <th></th>\n",
       "      <th></th>\n",
       "    </tr>\n",
       "  </thead>\n",
       "  <tbody>\n",
       "    <tr>\n",
       "      <th>Adamschester</th>\n",
       "      <td>27</td>\n",
       "      <td>Suburban</td>\n",
       "      <td>2017-01-02 16:19:03</td>\n",
       "      <td>31.09</td>\n",
       "      <td>7079690106388</td>\n",
       "    </tr>\n",
       "    <tr>\n",
       "      <th>Adamschester</th>\n",
       "      <td>27</td>\n",
       "      <td>Suburban</td>\n",
       "      <td>2017-01-01 23:25:56</td>\n",
       "      <td>35.95</td>\n",
       "      <td>8549491628017</td>\n",
       "    </tr>\n",
       "    <tr>\n",
       "      <th>Adamschester</th>\n",
       "      <td>27</td>\n",
       "      <td>Suburban</td>\n",
       "      <td>2017-01-01 23:22:31</td>\n",
       "      <td>12.68</td>\n",
       "      <td>3026425788351</td>\n",
       "    </tr>\n",
       "    <tr>\n",
       "      <th>Adamschester</th>\n",
       "      <td>27</td>\n",
       "      <td>Suburban</td>\n",
       "      <td>2017-01-01 13:43:33</td>\n",
       "      <td>48.33</td>\n",
       "      <td>5433192651081</td>\n",
       "    </tr>\n",
       "    <tr>\n",
       "      <th>Adamschester</th>\n",
       "      <td>27</td>\n",
       "      <td>Suburban</td>\n",
       "      <td>2017-01-01 04:06:31</td>\n",
       "      <td>12.97</td>\n",
       "      <td>1970667817299</td>\n",
       "    </tr>\n",
       "  </tbody>\n",
       "</table>\n",
       "</div>"
      ],
      "text/plain": [
       "              driver_count      type                 date   fare  \\\n",
       "city                                                               \n",
       "Adamschester            27  Suburban  2017-01-02 16:19:03  31.09   \n",
       "Adamschester            27  Suburban  2017-01-01 23:25:56  35.95   \n",
       "Adamschester            27  Suburban  2017-01-01 23:22:31  12.68   \n",
       "Adamschester            27  Suburban  2017-01-01 13:43:33  48.33   \n",
       "Adamschester            27  Suburban  2017-01-01 04:06:31  12.97   \n",
       "\n",
       "                    ride_id  \n",
       "city                         \n",
       "Adamschester  7079690106388  \n",
       "Adamschester  8549491628017  \n",
       "Adamschester  3026425788351  \n",
       "Adamschester  5433192651081  \n",
       "Adamschester  1970667817299  "
      ]
     },
     "execution_count": 231,
     "metadata": {},
     "output_type": "execute_result"
    }
   ],
   "source": [
    "all_data_df.head()"
   ]
  },
  {
   "cell_type": "code",
   "execution_count": 232,
   "metadata": {},
   "outputs": [],
   "source": [
    "#Find average fare per city\n",
    "average_fare = all_data_df.groupby(\"city\").fare.mean().reset_index()\n",
    "#total rides per city\n",
    "total_rides = all_data_df.groupby(\"city\").ride_id.count().reset_index()"
   ]
  },
  {
   "cell_type": "code",
   "execution_count": 233,
   "metadata": {},
   "outputs": [
    {
     "data": {
      "text/html": [
       "<div>\n",
       "<style scoped>\n",
       "    .dataframe tbody tr th:only-of-type {\n",
       "        vertical-align: middle;\n",
       "    }\n",
       "\n",
       "    .dataframe tbody tr th {\n",
       "        vertical-align: top;\n",
       "    }\n",
       "\n",
       "    .dataframe thead th {\n",
       "        text-align: right;\n",
       "    }\n",
       "</style>\n",
       "<table border=\"1\" class=\"dataframe\">\n",
       "  <thead>\n",
       "    <tr style=\"text-align: right;\">\n",
       "      <th></th>\n",
       "      <th>fare</th>\n",
       "      <th>Average_fare</th>\n",
       "    </tr>\n",
       "    <tr>\n",
       "      <th>city</th>\n",
       "      <th></th>\n",
       "      <th></th>\n",
       "    </tr>\n",
       "  </thead>\n",
       "  <tbody>\n",
       "    <tr>\n",
       "      <th>Adamschester</th>\n",
       "      <td>29.594444</td>\n",
       "      <td>29.59</td>\n",
       "    </tr>\n",
       "    <tr>\n",
       "      <th>Alexisfort</th>\n",
       "      <td>27.366970</td>\n",
       "      <td>27.37</td>\n",
       "    </tr>\n",
       "    <tr>\n",
       "      <th>Amberberg</th>\n",
       "      <td>28.624375</td>\n",
       "      <td>28.62</td>\n",
       "    </tr>\n",
       "    <tr>\n",
       "      <th>Anthonyfurt</th>\n",
       "      <td>29.491176</td>\n",
       "      <td>29.49</td>\n",
       "    </tr>\n",
       "    <tr>\n",
       "      <th>Boyleberg</th>\n",
       "      <td>32.396000</td>\n",
       "      <td>32.40</td>\n",
       "    </tr>\n",
       "  </tbody>\n",
       "</table>\n",
       "</div>"
      ],
      "text/plain": [
       "                   fare  Average_fare\n",
       "city                                 \n",
       "Adamschester  29.594444         29.59\n",
       "Alexisfort    27.366970         27.37\n",
       "Amberberg     28.624375         28.62\n",
       "Anthonyfurt   29.491176         29.49\n",
       "Boyleberg     32.396000         32.40"
      ]
     },
     "execution_count": 233,
     "metadata": {},
     "output_type": "execute_result"
    }
   ],
   "source": [
    "average_fare.head()\n",
    "average_fare['Average_fare'] = round(average_fare['fare'],2)\n",
    "average_fare.set_index([\"city\"], inplace = True)\n",
    "average_fare.head()"
   ]
  },
  {
   "cell_type": "code",
   "execution_count": 234,
   "metadata": {},
   "outputs": [
    {
     "data": {
      "text/html": [
       "<div>\n",
       "<style scoped>\n",
       "    .dataframe tbody tr th:only-of-type {\n",
       "        vertical-align: middle;\n",
       "    }\n",
       "\n",
       "    .dataframe tbody tr th {\n",
       "        vertical-align: top;\n",
       "    }\n",
       "\n",
       "    .dataframe thead th {\n",
       "        text-align: right;\n",
       "    }\n",
       "</style>\n",
       "<table border=\"1\" class=\"dataframe\">\n",
       "  <thead>\n",
       "    <tr style=\"text-align: right;\">\n",
       "      <th></th>\n",
       "      <th>Total_Number_of_Rides</th>\n",
       "    </tr>\n",
       "    <tr>\n",
       "      <th>city</th>\n",
       "      <th></th>\n",
       "    </tr>\n",
       "  </thead>\n",
       "  <tbody>\n",
       "    <tr>\n",
       "      <th>Adamschester</th>\n",
       "      <td>9</td>\n",
       "    </tr>\n",
       "    <tr>\n",
       "      <th>Alexisfort</th>\n",
       "      <td>33</td>\n",
       "    </tr>\n",
       "    <tr>\n",
       "      <th>Amberberg</th>\n",
       "      <td>16</td>\n",
       "    </tr>\n",
       "    <tr>\n",
       "      <th>Anthonyfurt</th>\n",
       "      <td>17</td>\n",
       "    </tr>\n",
       "    <tr>\n",
       "      <th>Boyleberg</th>\n",
       "      <td>5</td>\n",
       "    </tr>\n",
       "  </tbody>\n",
       "</table>\n",
       "</div>"
      ],
      "text/plain": [
       "              Total_Number_of_Rides\n",
       "city                               \n",
       "Adamschester                      9\n",
       "Alexisfort                       33\n",
       "Amberberg                        16\n",
       "Anthonyfurt                      17\n",
       "Boyleberg                         5"
      ]
     },
     "execution_count": 234,
     "metadata": {},
     "output_type": "execute_result"
    }
   ],
   "source": [
    "total_rides.set_index([\"city\"], inplace = True)\n",
    "#Rename column\n",
    "total_rides.rename(columns = {'ride_id': 'Total_Number_of_Rides'}, inplace = True)\n",
    "total_rides.head()"
   ]
  },
  {
   "cell_type": "code",
   "execution_count": 235,
   "metadata": {},
   "outputs": [],
   "source": [
    "#Merge all data by city index\n",
    "merge1 = average_fare.merge(total_rides, how = \"inner\", left_index = True, right_index = True)"
   ]
  },
  {
   "cell_type": "code",
   "execution_count": 236,
   "metadata": {},
   "outputs": [],
   "source": [
    "city_summarized_df = merge1.merge(city_df, how = 'inner', left_index = True, right_index = True)"
   ]
  },
  {
   "cell_type": "code",
   "execution_count": 237,
   "metadata": {},
   "outputs": [
    {
     "data": {
      "text/html": [
       "<div>\n",
       "<style scoped>\n",
       "    .dataframe tbody tr th:only-of-type {\n",
       "        vertical-align: middle;\n",
       "    }\n",
       "\n",
       "    .dataframe tbody tr th {\n",
       "        vertical-align: top;\n",
       "    }\n",
       "\n",
       "    .dataframe thead th {\n",
       "        text-align: right;\n",
       "    }\n",
       "</style>\n",
       "<table border=\"1\" class=\"dataframe\">\n",
       "  <thead>\n",
       "    <tr style=\"text-align: right;\">\n",
       "      <th></th>\n",
       "      <th>Average_fare</th>\n",
       "      <th>Total_Number_of_Rides</th>\n",
       "      <th>driver_count</th>\n",
       "      <th>type</th>\n",
       "    </tr>\n",
       "    <tr>\n",
       "      <th>city</th>\n",
       "      <th></th>\n",
       "      <th></th>\n",
       "      <th></th>\n",
       "      <th></th>\n",
       "    </tr>\n",
       "  </thead>\n",
       "  <tbody>\n",
       "    <tr>\n",
       "      <th>Adamschester</th>\n",
       "      <td>29.59</td>\n",
       "      <td>9</td>\n",
       "      <td>27</td>\n",
       "      <td>Suburban</td>\n",
       "    </tr>\n",
       "    <tr>\n",
       "      <th>Alexisfort</th>\n",
       "      <td>27.37</td>\n",
       "      <td>33</td>\n",
       "      <td>24</td>\n",
       "      <td>Urban</td>\n",
       "    </tr>\n",
       "    <tr>\n",
       "      <th>Amberberg</th>\n",
       "      <td>28.62</td>\n",
       "      <td>16</td>\n",
       "      <td>13</td>\n",
       "      <td>Suburban</td>\n",
       "    </tr>\n",
       "    <tr>\n",
       "      <th>Anthonyfurt</th>\n",
       "      <td>29.49</td>\n",
       "      <td>17</td>\n",
       "      <td>17</td>\n",
       "      <td>Suburban</td>\n",
       "    </tr>\n",
       "    <tr>\n",
       "      <th>Boyleberg</th>\n",
       "      <td>32.40</td>\n",
       "      <td>5</td>\n",
       "      <td>13</td>\n",
       "      <td>Suburban</td>\n",
       "    </tr>\n",
       "  </tbody>\n",
       "</table>\n",
       "</div>"
      ],
      "text/plain": [
       "              Average_fare  Total_Number_of_Rides  driver_count      type\n",
       "city                                                                     \n",
       "Adamschester         29.59                      9            27  Suburban\n",
       "Alexisfort           27.37                     33            24     Urban\n",
       "Amberberg            28.62                     16            13  Suburban\n",
       "Anthonyfurt          29.49                     17            17  Suburban\n",
       "Boyleberg            32.40                      5            13  Suburban"
      ]
     },
     "execution_count": 237,
     "metadata": {},
     "output_type": "execute_result"
    }
   ],
   "source": [
    "#Drop extra columns\n",
    "city_summarized_df.drop(['fare'], axis = 1, inplace = True)\n",
    "city_summarized_df.head()"
   ]
  },
  {
   "cell_type": "code",
   "execution_count": 238,
   "metadata": {},
   "outputs": [
    {
     "data": {
      "text/plain": [
       "Average_fare             126\n",
       "Total_Number_of_Rides    126\n",
       "driver_count             126\n",
       "type                     126\n",
       "dtype: int64"
      ]
     },
     "execution_count": 238,
     "metadata": {},
     "output_type": "execute_result"
    }
   ],
   "source": [
    "city_summarized_df.count()"
   ]
  },
  {
   "cell_type": "code",
   "execution_count": 239,
   "metadata": {},
   "outputs": [
    {
     "data": {
      "image/png": "[encoded data removed]",
      "text/plain": [
       "<matplotlib.figure.Figure at 0x153a7a642e8>"
      ]
     },
     "metadata": {},
     "output_type": "display_data"
    }
   ],
   "source": [
    "#Create bubble chart\n",
    "marker_size = [20,50,100,150,300]\n",
    "bubble = sb.lmplot(data=city_summarized_df, x='Total_Number_of_Rides', y = 'Average_fare', \n",
    "                   fit_reg = False, hue = 'type', scatter_kws={\"s\":marker_size})\n",
    "plt.title('Pyber Ride Sharing Data 2017')\n",
    "plt.xlabel('Total Number of rides (Per City)')\n",
    "plt.ylabel('Average Fare($)')\n",
    "plt.savefig('Pyber_bubble.png')"
   ]
  },
  {
   "cell_type": "code",
   "execution_count": 240,
   "metadata": {},
   "outputs": [
    {
     "data": {
      "text/html": [
       "<div>\n",
       "<style scoped>\n",
       "    .dataframe tbody tr th:only-of-type {\n",
       "        vertical-align: middle;\n",
       "    }\n",
       "\n",
       "    .dataframe tbody tr th {\n",
       "        vertical-align: top;\n",
       "    }\n",
       "\n",
       "    .dataframe thead th {\n",
       "        text-align: right;\n",
       "    }\n",
       "</style>\n",
       "<table border=\"1\" class=\"dataframe\">\n",
       "  <thead>\n",
       "    <tr style=\"text-align: right;\">\n",
       "      <th></th>\n",
       "      <th>type</th>\n",
       "      <th>fare</th>\n",
       "    </tr>\n",
       "  </thead>\n",
       "  <tbody>\n",
       "    <tr>\n",
       "      <th>0</th>\n",
       "      <td>Rural</td>\n",
       "      <td>4271.69</td>\n",
       "    </tr>\n",
       "    <tr>\n",
       "      <th>1</th>\n",
       "      <td>Suburban</td>\n",
       "      <td>18779.26</td>\n",
       "    </tr>\n",
       "    <tr>\n",
       "      <th>2</th>\n",
       "      <td>Urban</td>\n",
       "      <td>40093.25</td>\n",
       "    </tr>\n",
       "  </tbody>\n",
       "</table>\n",
       "</div>"
      ],
      "text/plain": [
       "       type      fare\n",
       "0     Rural   4271.69\n",
       "1  Suburban  18779.26\n",
       "2     Urban  40093.25"
      ]
     },
     "execution_count": 240,
     "metadata": {},
     "output_type": "execute_result"
    }
   ],
   "source": [
    "#Calculate total fare revenue\n",
    "tot_revenue_df = all_data_df[\"fare\"].sum() \n",
    "#Group total fare by city type\n",
    "tot_fare_df = all_data_df.groupby(\"type\").fare.sum().reset_index()\n",
    "tot_fare_df.head()"
   ]
  },
  {
   "cell_type": "code",
   "execution_count": 241,
   "metadata": {},
   "outputs": [
    {
     "data": {
      "text/html": [
       "<div>\n",
       "<style scoped>\n",
       "    .dataframe tbody tr th:only-of-type {\n",
       "        vertical-align: middle;\n",
       "    }\n",
       "\n",
       "    .dataframe tbody tr th {\n",
       "        vertical-align: top;\n",
       "    }\n",
       "\n",
       "    .dataframe thead th {\n",
       "        text-align: right;\n",
       "    }\n",
       "</style>\n",
       "<table border=\"1\" class=\"dataframe\">\n",
       "  <thead>\n",
       "    <tr style=\"text-align: right;\">\n",
       "      <th></th>\n",
       "      <th>type</th>\n",
       "      <th>fare</th>\n",
       "      <th>Percentage_of_fare_by_city_type</th>\n",
       "    </tr>\n",
       "  </thead>\n",
       "  <tbody>\n",
       "    <tr>\n",
       "      <th>0</th>\n",
       "      <td>Rural</td>\n",
       "      <td>4271.69</td>\n",
       "      <td>6.76%</td>\n",
       "    </tr>\n",
       "    <tr>\n",
       "      <th>1</th>\n",
       "      <td>Suburban</td>\n",
       "      <td>18779.26</td>\n",
       "      <td>29.74%</td>\n",
       "    </tr>\n",
       "    <tr>\n",
       "      <th>2</th>\n",
       "      <td>Urban</td>\n",
       "      <td>40093.25</td>\n",
       "      <td>63.49%</td>\n",
       "    </tr>\n",
       "  </tbody>\n",
       "</table>\n",
       "</div>"
      ],
      "text/plain": [
       "       type      fare Percentage_of_fare_by_city_type\n",
       "0     Rural   4271.69                           6.76%\n",
       "1  Suburban  18779.26                          29.74%\n",
       "2     Urban  40093.25                          63.49%"
      ]
     },
     "execution_count": 241,
     "metadata": {},
     "output_type": "execute_result"
    }
   ],
   "source": [
    "#Calculate % of total fare by city type\n",
    "tot_fare_df['Percentage_of_fare_by_city_type'] = round(tot_fare_df['fare']/tot_revenue_df*100,2)\n",
    "#Format percentage values\n",
    "tot_fare_df[\"Percentage_of_fare_by_city_type\"] = tot_fare_df[\"Percentage_of_fare_by_city_type\"].map(\"{:.2f}%\".format)\n",
    "tot_fare_df.head()"
   ]
  },
  {
   "cell_type": "code",
   "execution_count": 242,
   "metadata": {},
   "outputs": [],
   "source": [
    "tot_fare_by_city_type = tot_fare_df[\"fare\"].tolist()\n",
    "city_type = tot_fare_df[\"type\"].tolist()\n",
    "colors = ['yellowgreen','lightskyblue', 'lightcoral']"
   ]
  },
  {
   "cell_type": "code",
   "execution_count": 243,
   "metadata": {},
   "outputs": [
    {
     "name": "stdout",
     "output_type": "stream",
     "text": [
      "['Rural', 'Suburban', 'Urban']\n"
     ]
    }
   ],
   "source": [
    "print(city_type)"
   ]
  },
  {
   "cell_type": "code",
   "execution_count": 244,
   "metadata": {},
   "outputs": [
    {
     "name": "stdout",
     "output_type": "stream",
     "text": [
      "[4271.689999999999, 18779.25999999998, 40093.24999999994]\n"
     ]
    }
   ],
   "source": [
    "print(tot_fare_by_city_type)"
   ]
  },
  {
   "cell_type": "code",
   "execution_count": 245,
   "metadata": {},
   "outputs": [],
   "source": [
    "explode = (0.1, 0.1, 0)"
   ]
  },
  {
   "cell_type": "code",
   "execution_count": 246,
   "metadata": {},
   "outputs": [
    {
     "data": {
      "image/png": "[encoded data removed]",
      "text/plain": [
       "<matplotlib.figure.Figure at 0x153a7a6fef0>"
      ]
     },
     "metadata": {},
     "output_type": "display_data"
    }
   ],
   "source": [
    "plt.title(\"% of total fares by City Type\")\n",
    "plt.pie(tot_fare_by_city_type, explode = explode, labels = city_type, colors = colors,\n",
    "       autopct = \"%1.1f%%\", shadow = True, startangle = 120)\n",
    "plt.axis(\"equal\")\n",
    "plt.show()"
   ]
  },
  {
   "cell_type": "code",
   "execution_count": 247,
   "metadata": {},
   "outputs": [
    {
     "data": {
      "text/html": [
       "<div>\n",
       "<style scoped>\n",
       "    .dataframe tbody tr th:only-of-type {\n",
       "        vertical-align: middle;\n",
       "    }\n",
       "\n",
       "    .dataframe tbody tr th {\n",
       "        vertical-align: top;\n",
       "    }\n",
       "\n",
       "    .dataframe thead th {\n",
       "        text-align: right;\n",
       "    }\n",
       "</style>\n",
       "<table border=\"1\" class=\"dataframe\">\n",
       "  <thead>\n",
       "    <tr style=\"text-align: right;\">\n",
       "      <th></th>\n",
       "      <th>type</th>\n",
       "      <th>Total_Number_of_Rides</th>\n",
       "    </tr>\n",
       "  </thead>\n",
       "  <tbody>\n",
       "    <tr>\n",
       "      <th>0</th>\n",
       "      <td>Rural</td>\n",
       "      <td>125</td>\n",
       "    </tr>\n",
       "    <tr>\n",
       "      <th>1</th>\n",
       "      <td>Suburban</td>\n",
       "      <td>625</td>\n",
       "    </tr>\n",
       "    <tr>\n",
       "      <th>2</th>\n",
       "      <td>Urban</td>\n",
       "      <td>1625</td>\n",
       "    </tr>\n",
       "  </tbody>\n",
       "</table>\n",
       "</div>"
      ],
      "text/plain": [
       "       type  Total_Number_of_Rides\n",
       "0     Rural                    125\n",
       "1  Suburban                    625\n",
       "2     Urban                   1625"
      ]
     },
     "execution_count": 247,
     "metadata": {},
     "output_type": "execute_result"
    }
   ],
   "source": [
    "#Calculate total number of rides\n",
    "tot_rides = city_summarized_df[\"Total_Number_of_Rides\"].sum()\n",
    "#Group total rides by city type\n",
    "tot_rides_df = city_summarized_df.groupby(\"type\").Total_Number_of_Rides.sum().reset_index()\n",
    "tot_rides_df.head()"
   ]
  },
  {
   "cell_type": "code",
   "execution_count": 248,
   "metadata": {},
   "outputs": [],
   "source": [
    "tot_rides_by_city_type = tot_rides_df[\"Total_Number_of_Rides\"].tolist()\n",
    "city_type = tot_rides_df[\"type\"].tolist()\n",
    "colors = ['yellowgreen','lightskyblue', 'lightcoral']"
   ]
  },
  {
   "cell_type": "code",
   "execution_count": 249,
   "metadata": {},
   "outputs": [
    {
     "name": "stdout",
     "output_type": "stream",
     "text": [
      "[125, 625, 1625]\n"
     ]
    }
   ],
   "source": [
    "print(tot_rides_by_city_type)"
   ]
  },
  {
   "cell_type": "code",
   "execution_count": 250,
   "metadata": {},
   "outputs": [
    {
     "name": "stdout",
     "output_type": "stream",
     "text": [
      "['Rural', 'Suburban', 'Urban']\n"
     ]
    }
   ],
   "source": [
    "print(city_type)"
   ]
  },
  {
   "cell_type": "code",
   "execution_count": 251,
   "metadata": {},
   "outputs": [
    {
     "data": {
      "image/png": "[encoded data removed]",
      "text/plain": [
       "<matplotlib.figure.Figure at 0x153a761be80>"
      ]
     },
     "metadata": {},
     "output_type": "display_data"
    }
   ],
   "source": [
    "explode = (0.1, 0.1, 0)\n",
    "plt.title(\"% of Total Rides by City Type\")\n",
    "plt.pie(tot_rides_by_city_type, explode = explode, labels = city_type, colors = colors,\n",
    "       autopct = \"%1.1f%%\", shadow = True, startangle = 120)\n",
    "plt.axis(\"equal\")\n",
    "plt.show()"
   ]
  },
  {
   "cell_type": "code",
   "execution_count": 252,
   "metadata": {},
   "outputs": [
    {
     "data": {
      "text/html": [
       "<div>\n",
       "<style scoped>\n",
       "    .dataframe tbody tr th:only-of-type {\n",
       "        vertical-align: middle;\n",
       "    }\n",
       "\n",
       "    .dataframe tbody tr th {\n",
       "        vertical-align: top;\n",
       "    }\n",
       "\n",
       "    .dataframe thead th {\n",
       "        text-align: right;\n",
       "    }\n",
       "</style>\n",
       "<table border=\"1\" class=\"dataframe\">\n",
       "  <thead>\n",
       "    <tr style=\"text-align: right;\">\n",
       "      <th></th>\n",
       "      <th>type</th>\n",
       "      <th>driver_count</th>\n",
       "    </tr>\n",
       "  </thead>\n",
       "  <tbody>\n",
       "    <tr>\n",
       "      <th>0</th>\n",
       "      <td>Rural</td>\n",
       "      <td>98</td>\n",
       "    </tr>\n",
       "    <tr>\n",
       "      <th>1</th>\n",
       "      <td>Suburban</td>\n",
       "      <td>594</td>\n",
       "    </tr>\n",
       "    <tr>\n",
       "      <th>2</th>\n",
       "      <td>Urban</td>\n",
       "      <td>2466</td>\n",
       "    </tr>\n",
       "  </tbody>\n",
       "</table>\n",
       "</div>"
      ],
      "text/plain": [
       "       type  driver_count\n",
       "0     Rural            98\n",
       "1  Suburban           594\n",
       "2     Urban          2466"
      ]
     },
     "execution_count": 252,
     "metadata": {},
     "output_type": "execute_result"
    }
   ],
   "source": [
    "#Group driver total by city type\n",
    "tot_drivers_df = city_summarized_df.groupby(\"type\").driver_count.sum().reset_index()\n",
    "tot_drivers_df.head()"
   ]
  },
  {
   "cell_type": "code",
   "execution_count": 253,
   "metadata": {},
   "outputs": [],
   "source": [
    "tot_drivers_by_city_type = tot_drivers_df[\"driver_count\"].tolist()\n",
    "city_type = tot_rides_df[\"type\"].tolist()\n",
    "colors = ['yellowgreen','lightskyblue', 'lightcoral']"
   ]
  },
  {
   "cell_type": "code",
   "execution_count": 254,
   "metadata": {},
   "outputs": [
    {
     "name": "stdout",
     "output_type": "stream",
     "text": [
      "[98, 594, 2466]\n"
     ]
    }
   ],
   "source": [
    "print(tot_drivers_by_city_type)"
   ]
  },
  {
   "cell_type": "code",
   "execution_count": 255,
   "metadata": {},
   "outputs": [
    {
     "name": "stdout",
     "output_type": "stream",
     "text": [
      "['Rural', 'Suburban', 'Urban']\n"
     ]
    }
   ],
   "source": [
    "print(city_type)"
   ]
  },
  {
   "cell_type": "code",
   "execution_count": 256,
   "metadata": {},
   "outputs": [
    {
     "data": {
      "image/png": "[encoded data removed]",
      "text/plain": [
       "<matplotlib.figure.Figure at 0x153a7643438>"
      ]
     },
     "metadata": {},
     "output_type": "display_data"
    }
   ],
   "source": [
    "explode = (0.1, 0.1, 0)\n",
    "plt.title(\"% of Total Drivers by City Type\")\n",
    "plt.pie(tot_drivers_by_city_type, explode = explode, labels = city_type, colors = colors,\n",
    "       autopct = \"%1.1f%%\", shadow = True, startangle = 120)\n",
    "plt.axis(\"equal\")\n",
    "plt.show()"
   ]
  },
  {
   "cell_type": "code",
   "execution_count": null,
   "metadata": {},
   "outputs": [],
   "source": []
  }
 ],
 "metadata": {
  "kernelspec": {
   "display_name": "Python 3",
   "language": "python",
   "name": "python3"
  },
  "language_info": {
   "codemirror_mode": {
    "name": "ipython",
    "version": 3
   },
   "file_extension": ".py",
   "mimetype": "text/x-python",
   "name": "python",
   "nbconvert_exporter": "python",
   "pygments_lexer": "ipython3",
   "version": "3.6.4"
  }
 },
 "nbformat": 4,
 "nbformat_minor": 2
}
